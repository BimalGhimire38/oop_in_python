{
 "cells": [
  {
   "cell_type": "markdown",
   "id": "e4cb459e",
   "metadata": {},
   "source": [
    "2082/05/25   04:42 PM\n",
    "\n",
    "# Gen-Z Protest ...\n",
    "## Learning OOP ( Revising )\n",
    "\n",
    "[YouTube Video Link](https://youtu.be/Mf2RdpEiXjU)"
   ]
  },
  {
   "cell_type": "code",
   "execution_count": 5,
   "id": "b19478c0",
   "metadata": {},
   "outputs": [
    {
     "name": "stdout",
     "output_type": "stream",
     "text": [
      "Pin Set Successfully\n",
      "Thank you for using ATM\n"
     ]
    }
   ],
   "source": [
    "# 2082/05/25  08:39 PM, PM ko banne vaera tanab vairaxa yr\n",
    "\n",
    "class Atm:\n",
    "    # __init__ method is a special method in python class\n",
    "    # it is called a constructor and is automatically called when an object of the class is created\n",
    "    def __init__(self):\n",
    "        self.pin = \"\"\n",
    "        self.balance =0\n",
    "        self.menu()\n",
    "        print(\"Thank you for using ATM\")\n",
    "    \n",
    "    def menu(self):\n",
    "        user_input = input('''0\n",
    "                           Helloe, How would you like to proceed?\n",
    "                           1. Enter 1 to create PIN\n",
    "                           2. Enter 2 to deposit \n",
    "                           3. Enter 3 to withdraw\n",
    "                           4. Enter 4 to check balance\n",
    "                           5. Enter 5 to exit\n",
    "                           ''')\n",
    "        if user_input=='1':\n",
    "            self.create_pin()\n",
    "\n",
    "        elif user_input=='2':\n",
    "            # print(\"Deposit\")\n",
    "            self.deposit()\n",
    "\n",
    "        elif  user_input=='3':\n",
    "            self.withdraw()\n",
    "\n",
    "        elif user_input=='4':\n",
    "            self.check_balance()\n",
    "\n",
    "        else:\n",
    "            print(\"Exit\")\n",
    "\n",
    "    def create_pin(self):\n",
    "        self.pin = input(\"Enter Your PIN\")\n",
    "        print(\"Pin Set Successfully\")\n",
    "    def deposit(self):\n",
    "        temp = input(\"Enter your PIN: \")\n",
    "        if temp==self.pin:\n",
    "            amount = int(input(\"Enter the anmount to deposit : \"))\n",
    "            self.balance+=amount\n",
    "            print(\"Deposit Successfully\")\n",
    "\n",
    "    def withdraw(self):\n",
    "        temp = input(\"Enter your PIN: \")\n",
    "        if temp==self.pin:\n",
    "            amount = int(input(\"Enter the anmount to withdraw : \"))\n",
    "\n",
    "            if amount<=self.balance:\n",
    "                self.balance -=amount\n",
    "                print(\"Withdrawn Successfully\")\n",
    "            else:\n",
    "                print(\"Insufficient Balance\")\n",
    "        else:\n",
    "            print(\"Invalid PIN\")\n",
    "\n",
    "    def check_balance(self):\n",
    "        temp = input(\"Enter your PIN: \")\n",
    "        if temp==self.pin:\n",
    "            print(f\"Your balance is {self.balance}\")\n",
    "    \n",
    "\n",
    "\n",
    "b = Atm()\n",
    "\n"
   ]
  },
  {
   "cell_type": "code",
   "execution_count": null,
   "id": "a38c12cc",
   "metadata": {},
   "outputs": [],
   "source": []
  }
 ],
 "metadata": {
  "kernelspec": {
   "display_name": "base",
   "language": "python",
   "name": "python3"
  },
  "language_info": {
   "codemirror_mode": {
    "name": "ipython",
    "version": 3
   },
   "file_extension": ".py",
   "mimetype": "text/x-python",
   "name": "python",
   "nbconvert_exporter": "python",
   "pygments_lexer": "ipython3",
   "version": "3.13.5"
  }
 },
 "nbformat": 4,
 "nbformat_minor": 5
}
