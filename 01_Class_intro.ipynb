{
 "cells": [
  {
   "cell_type": "markdown",
   "id": "e4cb459e",
   "metadata": {},
   "source": [
    "2082/05/25   04:42 PM\n",
    "\n",
    "# Gen-Z Protest ...\n",
    "## Learning OOP ( Revising )\n",
    "\n",
    "[YouTube Video Link](https://youtu.be/Mf2RdpEiXjU)"
   ]
  },
  {
   "cell_type": "code",
   "execution_count": 5,
   "id": "b19478c0",
   "metadata": {},
   "outputs": [
    {
     "name": "stdout",
     "output_type": "stream",
     "text": [
      "Pin Set Successfully\n",
      "Thank you for using ATM\n"
     ]
    }
   ],
   "source": [
    "# 2082/05/25  08:39 PM, PM ko banne vaera tanab vairaxa yr\n",
    "\n",
    "class Atm:\n",
    "    # __init__ method is a special method in python class\n",
    "    # it is called a constructor and is automatically called when an object of the class is created\n",
    "    def __init__(self):\n",
    "        self.pin = \"\"\n",
    "        self.balance =0\n",
    "        self.menu()\n",
    "        print(\"Thank you for using ATM\")\n",
    "    \n",
    "    def menu(self):\n",
    "        user_input = input('''0\n",
    "                           Helloe, How would you like to proceed?\n",
    "                           1. Enter 1 to create PIN\n",
    "                           2. Enter 2 to deposit \n",
    "                           3. Enter 3 to withdraw\n",
    "                           4. Enter 4 to check balance\n",
    "                           5. Enter 5 to exit\n",
    "                           ''')\n",
    "        if user_input=='1':\n",
    "            self.create_pin()\n",
    "\n",
    "        elif user_input=='2':\n",
    "            # print(\"Deposit\")\n",
    "            self.deposit()\n",
    "\n",
    "        elif  user_input=='3':\n",
    "            self.withdraw()\n",
    "\n",
    "        elif user_input=='4':\n",
    "            self.check_balance()\n",
    "\n",
    "        else:\n",
    "            print(\"Exit\")\n",
    "\n",
    "    def create_pin(self):\n",
    "        self.pin = input(\"Enter Your PIN\")\n",
    "        print(\"Pin Set Successfully\")\n",
    "    def deposit(self):\n",
    "        temp = input(\"Enter your PIN: \")\n",
    "        if temp==self.pin:\n",
    "            amount = int(input(\"Enter the anmount to deposit : \"))\n",
    "            self.balance+=amount\n",
    "            print(\"Deposit Successfully\")\n",
    "\n",
    "    def withdraw(self):\n",
    "        temp = input(\"Enter your PIN: \")\n",
    "        if temp==self.pin:\n",
    "            amount = int(input(\"Enter the anmount to withdraw : \"))\n",
    "\n",
    "            if amount<=self.balance:\n",
    "                self.balance -=amount\n",
    "                print(\"Withdrawn Successfully\")\n",
    "            else:\n",
    "                print(\"Insufficient Balance\")\n",
    "        else:\n",
    "            print(\"Invalid PIN\")\n",
    "\n",
    "    def check_balance(self):\n",
    "        temp = input(\"Enter your PIN: \")\n",
    "        if temp==self.pin:\n",
    "            print(f\"Your balance is {self.balance}\")\n",
    "    \n",
    "\n",
    "\n",
    "b = Atm()\n",
    "\n"
   ]
  },
  {
   "cell_type": "markdown",
   "id": "85a40688",
   "metadata": {},
   "source": [
    "2082/05/26  06:02 PM\n",
    "@ Home, Lalitpur\n",
    "[Current time video link](https://youtu.be/Mf2RdpEiXjU?t=3367)"
   ]
  },
  {
   "cell_type": "markdown",
   "id": "784af2ac",
   "metadata": {},
   "source": [
    "# What is self\n",
    "self is also a object\n",
    "Self represents the object itself with which we are working"
   ]
  },
  {
   "cell_type": "code",
   "execution_count": 2,
   "id": "a38c12cc",
   "metadata": {},
   "outputs": [],
   "source": [
    "# print(id(self))"
   ]
  },
  {
   "cell_type": "markdown",
   "id": "db3bf8c1",
   "metadata": {},
   "source": [
    "# Creating a Class to handle Fraction i.e 5/6..."
   ]
  },
  {
   "cell_type": "code",
   "execution_count": 3,
   "id": "df16323c",
   "metadata": {},
   "outputs": [],
   "source": [
    "# -*- coding: utf-8 -*-\n",
    "\"\"\"\n",
    "Created on Thu Sep 11 18:14:29 2025\n",
    "\n",
    "@author: BIMAL\n",
    "\"\"\"\n",
    "class Fraction:\n",
    "    def __init__(self,n,d):\n",
    "        self.num = n\n",
    "        self.den = d\n",
    "        \n",
    "    def __str__(self):\n",
    "        return \"{}/{}\".format(self.num,self.den)\n",
    "\n",
    "    def __add__(self,other):\n",
    "        temp_num = self.num*other.den + other.num*self.den\n",
    "        temp_den = self.den*other.den\n",
    "        \n",
    "        return \"{}/{}\".format(temp_num,temp_den)\n",
    "    \n",
    "    def __sub__(self,other):\n",
    "        temp_num = self.num*other.den - other.num*self.den\n",
    "        temp_den = self.den*other.den\n",
    "        \n",
    "        return \"{}/{}\".format(temp_num,temp_den)\n",
    "    \n",
    "    def __mul__(self,other):\n",
    "        temp_num = self.num*other.num \n",
    "        temp_den = self.den*other.den\n",
    "        \n",
    "        return \"{}/{}\".format(temp_num,temp_den)\n",
    "        \n",
    "    def __truediv__(self,other):\n",
    "        temp_num = self.num*other.den\n",
    "        temp_den = self.den*other.num\n",
    "        \n",
    "        return \"{}/{}\".format(temp_num,temp_den)\n"
   ]
  },
  {
   "cell_type": "markdown",
   "id": "d1a642f3",
   "metadata": {},
   "source": [
    "# Encapsulation"
   ]
  },
  {
   "cell_type": "markdown",
   "id": "870fce10",
   "metadata": {},
   "source": [
    "If you make private variables or methods by adding double underscore (__) before name , another instance of class is created as _ClassName.. and all these variables are accessed through these internally.... SO even if self.__balance is private , we can modify this externally by b._Atm__balance = 2000"
   ]
  },
  {
   "cell_type": "code",
   "execution_count": 4,
   "id": "c392fff8",
   "metadata": {},
   "outputs": [
    {
     "name": "stdout",
     "output_type": "stream",
     "text": [
      "Exit\n",
      "Thank you for using ATM\n",
      "2476695752720\n"
     ]
    }
   ],
   "source": [
    "# -*- coding: utf-8 -*-\n",
    "\"\"\"\n",
    "Created on Wed Sep 10 21:03:56 2025\n",
    "\n",
    "@author: BIMAL\n",
    "\"\"\"\n",
    "\n",
    "# 2082/05/25  09:04 PM, PM ko banne vaera tanab vairaxa yr\n",
    "\n",
    "class Atm:\n",
    "    \n",
    "    # Magic Methods in Python (__magic_method_name__)\n",
    "    \n",
    "    # __init__ method is a special method in python class\n",
    "    # it is called a constructor and is automatically called when an object of the class is created\n",
    "    \n",
    "    # Instance Variable are those variable whose value is different for different object\n",
    "    def __init__(self):\n",
    "        self.__pin = \"\"\n",
    "        self.__balance =0\n",
    "        self.menu()\n",
    "        print(\"Thank you for using ATM\")\n",
    "        print(id(self))\n",
    "    \n",
    "    def menu(self):\n",
    "        user_input = input('''0\n",
    "                           Helloe, How would you like to proceed?\n",
    "                           1. Enter 1 to create PIN\n",
    "                           2. Enter 2 to deposit \n",
    "                           3. Enter 3 to withdraw\n",
    "                           4. Enter 4 to check balance\n",
    "                           5. Enter 5 to exit\n",
    "                           ''')\n",
    "        if user_input=='1':\n",
    "            self.create_pin()\n",
    "\n",
    "        elif user_input=='2':\n",
    "            # print(\"Deposit\")\n",
    "            self.deposit()\n",
    "\n",
    "        elif  user_input=='3':\n",
    "            self.withdraw()\n",
    "\n",
    "        elif user_input=='4':\n",
    "            self.check_balance()\n",
    "\n",
    "        else:\n",
    "            print(\"Exit\")\n",
    "\n",
    "    def create_pin(self):\n",
    "        self.__pin = input(\"Enter Your PIN\")\n",
    "        print(\"Pin Set Successfully\")\n",
    "    def deposit(self):\n",
    "        temp = input(\"Enter your PIN: \")\n",
    "        if temp==self.__pin:\n",
    "            amount = int(input(\"Enter the anmount to deposit : \"))\n",
    "            self.__balance+=amount\n",
    "            print(\"Deposit Successfully\")\n",
    "\n",
    "    def withdraw(self):\n",
    "        temp = input(\"Enter your PIN: \")\n",
    "        if temp==self.__pin:\n",
    "            amount = int(input(\"Enter the anmount to withdraw : \"))\n",
    "\n",
    "            if amount<=self.balance:\n",
    "                self.__balance -=amount\n",
    "                print(\"Withdrawn Successfully\")\n",
    "            else:\n",
    "                print(\"Insufficient Balance\")\n",
    "        else:\n",
    "            print(\"Invalid PIN\")\n",
    "\n",
    "    def check_balance(self):\n",
    "        temp = input(\"Enter your PIN: \")\n",
    "        if temp==self.__pin:\n",
    "            print(f\"Your balance is {self.__balance}\")\n",
    "    \n",
    "\n",
    "\n",
    "b = Atm()"
   ]
  },
  {
   "cell_type": "markdown",
   "id": "341fe3ca",
   "metadata": {},
   "source": [
    "Reference Variable\n",
    "\n",
    "\n",
    "if you call the class as Atm() without storing in any variable\n",
    "\n",
    "but b = Atm()\n",
    "here, b in the reference variable\n"
   ]
  },
  {
   "cell_type": "markdown",
   "id": "423892ae",
   "metadata": {},
   "source": [
    "# Pass by Reference\n",
    "2082/05/27  30:00 PM\n"
   ]
  },
  {
   "cell_type": "code",
   "execution_count": 1,
   "id": "1b9d7769",
   "metadata": {},
   "outputs": [
    {
     "name": "stdout",
     "output_type": "stream",
     "text": [
      "Hello Bimal Sir\n"
     ]
    }
   ],
   "source": [
    "class Customer:\n",
    "    def __init__(self,name,gender):\n",
    "        self.name = name\n",
    "        self.gender = gender\n",
    "        \n",
    "def greet(customer):\n",
    "    if customer.gender == \"Male\":\n",
    "        print(\"Hello\",customer.name, \"Sir\")\n",
    "        \n",
    "    else:\n",
    "        print(\"Hello\",customer.name, \"Ma'am\")\n",
    "        \n",
    "        \n",
    "        \n",
    "cust = Customer(\"Bimal\", \"Male\")\n",
    "\n",
    "greet(cust)"
   ]
  },
  {
   "cell_type": "markdown",
   "id": "b61178b4",
   "metadata": {},
   "source": [
    "[Video link at current time](https://youtu.be/Mf2RdpEiXjU?t=7106)"
   ]
  },
  {
   "cell_type": "code",
   "execution_count": 2,
   "id": "d1bdf600",
   "metadata": {},
   "outputs": [
    {
     "name": "stdout",
     "output_type": "stream",
     "text": [
      "Hello Bimal Sir\n",
      "BIMALA\n"
     ]
    }
   ],
   "source": [
    "class Customer:\n",
    "    def __init__(self,name,gender):\n",
    "        self.name = name\n",
    "        self.gender = gender\n",
    "        \n",
    "def greet(customer):\n",
    "    if customer.gender == \"Male\":\n",
    "        print(\"Hello\",customer.name, \"Sir\")\n",
    "        \n",
    "    else:\n",
    "        print(\"Hello\",customer.name, \"Ma'am\")\n",
    "        \n",
    "    cust2 = Customer(\"BIMALA\",\"Female\")\n",
    "    return cust2\n",
    "\n",
    "        \n",
    "        \n",
    "cust = Customer(\"Bimal\", \"Male\")\n",
    "new_cust = greet(cust)\n",
    "print(new_cust.name)\n",
    "\n"
   ]
  },
  {
   "cell_type": "markdown",
   "id": "a960343e",
   "metadata": {},
   "source": [
    "From above example, \n",
    "We can pass a class object into a function and we can also return a class object from the function"
   ]
  },
  {
   "cell_type": "code",
   "execution_count": null,
   "id": "65f76029",
   "metadata": {},
   "outputs": [],
   "source": []
  }
 ],
 "metadata": {
  "kernelspec": {
   "display_name": "base",
   "language": "python",
   "name": "python3"
  },
  "language_info": {
   "codemirror_mode": {
    "name": "ipython",
    "version": 3
   },
   "file_extension": ".py",
   "mimetype": "text/x-python",
   "name": "python",
   "nbconvert_exporter": "python",
   "pygments_lexer": "ipython3",
   "version": "3.13.5"
  }
 },
 "nbformat": 4,
 "nbformat_minor": 5
}
