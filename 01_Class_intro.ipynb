{
 "cells": [
  {
   "cell_type": "markdown",
   "id": "e4cb459e",
   "metadata": {},
   "source": [
    "2082/05/25   04:42 PM\n",
    "\n",
    "# Gen-Z Protest ...\n",
    "## Learning OOP ( Revising )\n",
    "\n",
    "[YouTube Video Link](https://youtu.be/Mf2RdpEiXjU)"
   ]
  },
  {
   "cell_type": "markdown",
   "id": "b96b45a0",
   "metadata": {},
   "source": []
  }
 ],
 "metadata": {
  "language_info": {
   "name": "python"
  }
 },
 "nbformat": 4,
 "nbformat_minor": 5
}
